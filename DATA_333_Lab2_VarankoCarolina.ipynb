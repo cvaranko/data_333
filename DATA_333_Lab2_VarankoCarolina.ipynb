{
 "cells": [
  {
   "cell_type": "code",
   "execution_count": 19,
   "id": "0c283fa5",
   "metadata": {
    "scrolled": true
   },
   "outputs": [
    {
     "name": "stdout",
     "output_type": "stream",
     "text": [
      "The Test Scores program\n",
      "\n",
      "Enter 3 test scores\n",
      "======================\n"
     ]
    },
    {
     "name": "stdin",
     "output_type": "stream",
     "text": [
      "Enter test score:  75\n",
      "Enter test score:  85\n",
      "Enter test score:  95\n"
     ]
    },
    {
     "name": "stdout",
     "output_type": "stream",
     "text": [
      "======================\n",
      "Your Score:  (75, 85, 95) \n",
      "Total Score: 255 \n",
      "Average Score: 85\n",
      "\n",
      "Bye\n"
     ]
    }
   ],
   "source": [
    "# display a welcome message\n",
    "print(\"The Test Scores program\")\n",
    "print()\n",
    "print(\"Enter 3 test scores\")\n",
    "print(\"======================\")\n",
    "\n",
    "# get scores from the user      \n",
    "total_score = 0    # initialize the variable for accumulating scores\n",
    "score_1 = int(input(\"Enter test score: \"))\n",
    "score_2 = int(input(\"Enter test score: \"))\n",
    "score_3 = int(input(\"Enter test score: \"))\n",
    "\n",
    "# TO DO LIST calculate average score\n",
    "your_score = (score_1, score_2, score_3)\n",
    "total_score = (score_1 + score_2 + score_3)\n",
    "average_score = round(total_score / 3) # TO Change\n",
    "             \n",
    "# format and display the result\n",
    "print(\"======================\")\n",
    "print(\"Your Score: \", your_score,\n",
    "        \"\\nTotal Score:\", total_score,\n",
    "         \"\\nAverage Score:\", average_score)\n",
    "print()\n",
    "print(\"Bye\")"
   ]
  },
  {
   "cell_type": "code",
   "execution_count": 21,
   "id": "46de3a0b",
   "metadata": {},
   "outputs": [
    {
     "name": "stdout",
     "output_type": "stream",
     "text": [
      "The Area and Perimeter program\n"
     ]
    },
    {
     "name": "stdin",
     "output_type": "stream",
     "text": [
      "Please enter the length:  25\n",
      "Please enter the width:  10\n"
     ]
    },
    {
     "name": "stdout",
     "output_type": "stream",
     "text": [
      "Area=  250 \n",
      "Perimeter=  70\n",
      "\n",
      "Thanks for using this program!\n"
     ]
    }
   ],
   "source": [
    "# display a welcome message\n",
    "print(\"The Area and Perimeter program\")\n",
    "# get scores from the user      # initialize the variable for accumulating scores\n",
    "length = int(input(\"Please enter the length: \"))\n",
    "width = int(input(\"Please enter the width: \"))\n",
    "\n",
    "# TO DO LIST calculate average score\n",
    "area = length * width   # TO Change\n",
    "perimeter = length * 2 + width * 2    # TO Change\n",
    "\n",
    "# format and display the result\n",
    "print(\"Area= \", area,\n",
    "         \"\\nPerimeter= \", perimeter)\n",
    "\n",
    "print(\"\\nThanks for using this program!\")\n"
   ]
  },
  {
   "cell_type": "code",
   "execution_count": null,
   "id": "17e9acb7",
   "metadata": {},
   "outputs": [],
   "source": []
  },
  {
   "cell_type": "code",
   "execution_count": null,
   "id": "da6a65a1",
   "metadata": {},
   "outputs": [],
   "source": []
  }
 ],
 "metadata": {
  "kernelspec": {
   "display_name": "Python 3 (ipykernel)",
   "language": "python",
   "name": "python3"
  },
  "language_info": {
   "codemirror_mode": {
    "name": "ipython",
    "version": 3
   },
   "file_extension": ".py",
   "mimetype": "text/x-python",
   "name": "python",
   "nbconvert_exporter": "python",
   "pygments_lexer": "ipython3",
   "version": "3.12.4"
  }
 },
 "nbformat": 4,
 "nbformat_minor": 5
}
