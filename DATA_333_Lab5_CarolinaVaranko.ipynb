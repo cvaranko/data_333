{
 "cells": [
  {
   "cell_type": "markdown",
   "id": "39c50ace",
   "metadata": {},
   "source": [
    "# Exercise 5-1 Create a CSV file for trip data"
   ]
  },
  {
   "cell_type": "code",
   "execution_count": 48,
   "id": "03e553d6-3cbb-4eca-a712-d7954f5b731d",
   "metadata": {
    "scrolled": true
   },
   "outputs": [
    {
     "name": "stdout",
     "output_type": "stream",
     "text": [
      "The Miles Per Gallon Program\n",
      "\n",
      "Data successfully read from the CSV file.\n",
      "\n",
      "Distance    Gallons    MPG\n",
      "225        17.0       13.24     \n",
      "1374       64.0       21.47     \n",
      "2514       79.0       31.82     \n"
     ]
    },
    {
     "name": "stdin",
     "output_type": "stream",
     "text": [
      "Enter miles driven:      274\n",
      "Enter gallons of gas used:      18.5\n"
     ]
    },
    {
     "name": "stdout",
     "output_type": "stream",
     "text": [
      "Miles Per Gallon: 14.81\n",
      "\n",
      "\n",
      "Distance    Gallons    MPG\n",
      "225        17.0       13.24     \n",
      "1374       64.0       21.47     \n",
      "2514       79.0       31.82     \n",
      "274        18.5       14.81     \n"
     ]
    },
    {
     "name": "stdin",
     "output_type": "stream",
     "text": [
      "More entries? (y or n):  n\n"
     ]
    },
    {
     "name": "stdout",
     "output_type": "stream",
     "text": [
      "[[225.0, 17.0, 13.24], [1374.0, 64.0, 21.47], [2514.0, 79.0, 31.82], [274.0, 18.5, 14.81]]\n",
      "Data has been written to \\Users\\carol\\OneDrive\\Documents\\PYTHON DATA333\\input.csv successfully.\n"
     ]
    }
   ],
   "source": [
    "import pandas as pd\n",
    "\n",
    "#define a list of lists with header row and three columns\n",
    "#read_trips() that will read the data in the existing trips.csv file and store to the trips list before asking for any additional inputs.\n",
    "def read_trips(pathfile):\n",
    "    try:\n",
    "        trips = pd.read_csv(pathfile).values.tolist()\n",
    "        print(\"Data successfully read from the CSV file.\")\n",
    "    except FileNotFoundError:\n",
    "        trips = []\n",
    "        print(\"No previous data found.\")\n",
    "    return trips\n",
    "    \n",
    "#list_trips() which will display the data in the trips list before adding any trips to the list.\n",
    "def list_trips(trips):\n",
    "    if not trips:\n",
    "        print(\"No trips found.\")\n",
    "    else:\n",
    "        print(\"\\nDistance    Gallons    MPG\")\n",
    "        for trip in trips:\n",
    "            print(f\"{int(trip[0]):<10} {trip[1]:<10} {trip[2]:<10}\")\n",
    "            \n",
    "#write_trips() which is similar to the function created in program 1. Be sure to write the trip to a CSV file after the users' input (each time when users do not want to continue on the interaction). \n",
    "def write_trips(trips, pathfile):\n",
    "    df = pd.DataFrame(trips, columns=[\"miles_driven\", \"gallons_used\", \"mpg\"])\n",
    "    df.to_csv(pathfile, index=False)\n",
    "    print(f\"Data has been written to {pathfile} successfully.\") #To make sure it did it after\n",
    "\n",
    "def main():\n",
    "    print(\"The Miles Per Gallon Program\")\n",
    "    print()\n",
    "\n",
    "    pathfile = r\"\\Users\\carol\\OneDrive\\Documents\\PYTHON DATA333\\input.csv\"\n",
    "    trips = read_trips(pathfile)\n",
    "    list_trips(trips)\n",
    "\n",
    "#create entries for the list and calculate MPG\n",
    "    more = \"y\"\n",
    "    while more.lower() == \"y\":\n",
    "        try:\n",
    "            miles_driven = float(input(\"Enter miles driven:     \"))                    \n",
    "            gallons_used = float(input(\"Enter gallons of gas used:     \"))                          \n",
    "            mpg = round((miles_driven / gallons_used), 2)\n",
    "            print(f\"Miles Per Gallon: {mpg}\")\n",
    "            print()\n",
    "\n",
    "            trip = [miles_driven, gallons_used, mpg]\n",
    "            trips.append(trip)\n",
    "            list_trips(trips) \n",
    "            more = input(\"More entries? (y or n): \")\n",
    "        except ValueError:\n",
    "            print(\"Please enter valid numeric values.\")\n",
    "    print(trips)\n",
    "    write_trips(trips, pathfile)\n",
    "\n",
    "if __name__ == \"__main__\":\n",
    "    main()"
   ]
  },
  {
   "cell_type": "code",
   "execution_count": 24,
   "id": "d0752395-e2e4-437c-9487-d81702cc934a",
   "metadata": {},
   "outputs": [
    {
     "ename": "SyntaxError",
     "evalue": "(unicode error) 'unicodeescape' codec can't decode bytes in position 0-1: truncated \\UXXXXXXXX escape (506081819.py, line 5)",
     "output_type": "error",
     "traceback": [
      "\u001b[1;36m  Cell \u001b[1;32mIn[24], line 5\u001b[1;36m\u001b[0m\n\u001b[1;33m    pathfile = \"\\Users\\carol\\OneDrive\\Documents\\PYTHON DATA333\\input.csv\"\u001b[0m\n\u001b[1;37m               ^\u001b[0m\n\u001b[1;31mSyntaxError\u001b[0m\u001b[1;31m:\u001b[0m (unicode error) 'unicodeescape' codec can't decode bytes in position 0-1: truncated \\UXXXXXXXX escape\n"
     ]
    }
   ],
   "source": [
    "df = pd.DataFrame(trips)\n",
    "columnnames = [\"miles_driven\",\"gallons_used\",\"mpg\"]\n",
    "df.columns = columnnames\n",
    "df\n",
    "pathfile = \"\\Users\\carol\\OneDrive\\Documents\\PYTHON DATA333\\input.csv\"\n",
    "df.to_csv(pathfile)"
   ]
  },
  {
   "cell_type": "code",
   "execution_count": 8,
   "id": "3d57ee3a-9aeb-4de3-a71d-0d0460d05bc2",
   "metadata": {},
   "outputs": [
    {
     "ename": "NameError",
     "evalue": "name 'pathfile' is not defined",
     "output_type": "error",
     "traceback": [
      "\u001b[1;31m---------------------------------------------------------------------------\u001b[0m",
      "\u001b[1;31mNameError\u001b[0m                                 Traceback (most recent call last)",
      "Cell \u001b[1;32mIn[8], line 1\u001b[0m\n\u001b[1;32m----> 1\u001b[0m df2 \u001b[38;5;241m=\u001b[39m pd\u001b[38;5;241m.\u001b[39mread_csv(pathfile)\n\u001b[0;32m      2\u001b[0m df2\n",
      "\u001b[1;31mNameError\u001b[0m: name 'pathfile' is not defined"
     ]
    }
   ],
   "source": [
    "df2 = pd.read_csv(pathfile)\n",
    "df2"
   ]
  },
  {
   "cell_type": "code",
   "execution_count": 36,
   "id": "eb458640-0c56-44a5-8e2c-310ff6eb4fc0",
   "metadata": {},
   "outputs": [],
   "source": [
    "df2['mpg'] = df2['miles_driven'] + df2['gallons_used']"
   ]
  },
  {
   "cell_type": "code",
   "execution_count": 37,
   "id": "f3d245c6-f93d-4b56-94d9-80a8fbc1950a",
   "metadata": {},
   "outputs": [
    {
     "data": {
      "text/html": [
       "<div>\n",
       "<style scoped>\n",
       "    .dataframe tbody tr th:only-of-type {\n",
       "        vertical-align: middle;\n",
       "    }\n",
       "\n",
       "    .dataframe tbody tr th {\n",
       "        vertical-align: top;\n",
       "    }\n",
       "\n",
       "    .dataframe thead th {\n",
       "        text-align: right;\n",
       "    }\n",
       "</style>\n",
       "<table border=\"1\" class=\"dataframe\">\n",
       "  <thead>\n",
       "    <tr style=\"text-align: right;\">\n",
       "      <th></th>\n",
       "      <th>Unnamed: 0</th>\n",
       "      <th>miles_driven</th>\n",
       "      <th>gallons_used</th>\n",
       "      <th>mpg</th>\n",
       "    </tr>\n",
       "  </thead>\n",
       "  <tbody>\n",
       "    <tr>\n",
       "      <th>0</th>\n",
       "      <td>0</td>\n",
       "      <td>4.0</td>\n",
       "      <td>2.0</td>\n",
       "      <td>6.0</td>\n",
       "    </tr>\n",
       "    <tr>\n",
       "      <th>1</th>\n",
       "      <td>1</td>\n",
       "      <td>2.0</td>\n",
       "      <td>3.0</td>\n",
       "      <td>5.0</td>\n",
       "    </tr>\n",
       "  </tbody>\n",
       "</table>\n",
       "</div>"
      ],
      "text/plain": [
       "   Unnamed: 0  miles_driven  gallons_used  mpg\n",
       "0           0           4.0           2.0  6.0\n",
       "1           1           2.0           3.0  5.0"
      ]
     },
     "execution_count": 37,
     "metadata": {},
     "output_type": "execute_result"
    }
   ],
   "source": [
    "df2"
   ]
  }
 ],
 "metadata": {
  "jupytext": {
   "cell_metadata_filter": "-all",
   "executable": "/usr/bin/env python3",
   "main_language": "python",
   "notebook_metadata_filter": "-all"
  },
  "kernelspec": {
   "display_name": "Python 3 (ipykernel)",
   "language": "python",
   "name": "python3"
  },
  "language_info": {
   "codemirror_mode": {
    "name": "ipython",
    "version": 3
   },
   "file_extension": ".py",
   "mimetype": "text/x-python",
   "name": "python",
   "nbconvert_exporter": "python",
   "pygments_lexer": "ipython3",
   "version": "3.12.4"
  }
 },
 "nbformat": 4,
 "nbformat_minor": 5
}
