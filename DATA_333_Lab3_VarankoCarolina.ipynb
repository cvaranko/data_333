{
 "cells": [
  {
   "cell_type": "markdown",
   "id": "16ee57de",
   "metadata": {},
   "source": [
    "# Exercise 3-1: Enhance the Miles Per Gallon program"
   ]
  },
  {
   "cell_type": "code",
   "execution_count": 3,
   "id": "9b4b0160",
   "metadata": {},
   "outputs": [
    {
     "name": "stdout",
     "output_type": "stream",
     "text": [
      "The Miles Per Gallon program\n",
      "\n",
      "Enter miles driven:\t\t100\n",
      "Enter gallons of gas used:\t5\n",
      "Enter cost of gas per gallon:\t5.25\n",
      "Is 5.25 correct? Press y for yes or n for no: n\n",
      "Enter cost of gas per gallon:\t5.00\n",
      "\n",
      "Miles Per Gallon:\t\t20.0\n",
      "Total Gas Cost:\t\t\t25.0\n",
      "Cost Per Mile:\t\t\t0.25\n",
      "\n",
      "Get entries for another trip? Press y to continue or n to quit.y\n",
      "Enter miles driven:\t\t200\n",
      "Enter gallons of gas used:\t11.5\n",
      "Enter cost of gas per gallon:\t4.75\n",
      "Is 4.75 correct? Press y for yes or n for no: y\n",
      "\n",
      "Miles Per Gallon:\t\t17.39\n",
      "Total Gas Cost:\t\t\t54.62\n",
      "Cost Per Mile:\t\t\t0.27\n",
      "\n",
      "Get entries for another trip? Press y to continue or n to quit.n\n",
      "Bye\n"
     ]
    }
   ],
   "source": [
    "# display a welcome message\n",
    "print(\"The Miles Per Gallon program\")\n",
    "print()"
   ]
  },
  {
   "cell_type": "code",
   "execution_count": 26,
   "id": "5d433ce1",
   "metadata": {},
   "outputs": [
    {
     "name": "stdin",
     "output_type": "stream",
     "text": [
      "Enter miles driven:\t 150\n",
      "Enter gallons of gas used:\t 15.2\n",
      "Enter cost per gallon:\t 4.25\n"
     ]
    },
    {
     "name": "stdout",
     "output_type": "stream",
     "text": [
      "Miles Per Gallon:\t 9.87\n",
      "Total Gas Cost:\t 64.6\n",
      "Cost Per Mile:\t 0.43\n"
     ]
    },
    {
     "name": "stdin",
     "output_type": "stream",
     "text": [
      "Get entries for another trip (y/n)? y\n",
      "Enter miles driven:\t 225\n",
      "Enter gallons of gas used:\t 16\n",
      "Enter cost per gallon:\t 4.25\n"
     ]
    },
    {
     "name": "stdout",
     "output_type": "stream",
     "text": [
      "Miles Per Gallon:\t 14.06\n",
      "Total Gas Cost:\t 68.0\n",
      "Cost Per Mile:\t 0.3\n"
     ]
    },
    {
     "name": "stdin",
     "output_type": "stream",
     "text": [
      "Get entries for another trip (y/n)? n\n"
     ]
    }
   ],
   "source": [
    "# get input from the user\n",
    "choice = 'y'\n",
    "while choice.lower() == 'y':\n",
    "\n",
    "    miles_driven = float(input(\"Enter miles driven:\\t\"))\n",
    "    gallons_used = float(input(\"Enter gallons of gas used:\\t\"))\n",
    "    gallons_cost = float(input(\"Enter cost per gallon:\\t\")) \n",
    "    \n",
    "    if miles_driven <= 0:\n",
    "        print(\"Miles driven must be greater than zero. Please try again.\")\n",
    "    elif gallons_used <= 0:\n",
    "        print(\"Gallons used must be greater than zero. Please try again.\")\n",
    "    elif gallons_cost <= 0:\n",
    "        print(\"Cost must be greater than zero. Please try again.\")\n",
    "    else:\n",
    "    # calculate and display miles per gallon.\n",
    "        mpg = round(miles_driven/gallons_used, 2)\n",
    "        print(\"Miles Per Gallon:\\t\", mpg)\n",
    "        tgc = round(gallons_used*gallons_cost, 2)\n",
    "        print(\"Total Gas Cost:\\t\", tgc)\n",
    "        cpm = round(gallons_used/miles_driven*gallons_cost, 2)\n",
    "        print(\"Cost Per Mile:\\t\", cpm)\n",
    "\n",
    "        choice = input(\"Get entries for another trip (y/n)?\")"
   ]
  },
  {
   "cell_type": "code",
   "execution_count": 19,
   "id": "f0605ebc-8698-43e0-ae3e-748da7fc1fc2",
   "metadata": {},
   "outputs": [
    {
     "name": "stdout",
     "output_type": "stream",
     "text": [
      "64.6\n"
     ]
    }
   ],
   "source": [
    "print()\n",
    "print(\"bye\")"
   ]
  },
  {
   "cell_type": "code",
   "execution_count": 17,
   "id": "a0e073cd-87d9-4489-a5c4-06cf3d0b4a3d",
   "metadata": {},
   "outputs": [
    {
     "name": "stdout",
     "output_type": "stream",
     "text": [
      "\n",
      "Bye\n"
     ]
    }
   ],
   "source": [
    "print()\n",
    "print(\"Bye\")"
   ]
  },
  {
   "cell_type": "code",
   "execution_count": null,
   "id": "6a4b14bb-f10f-4e74-b9cf-f62022a6d4b3",
   "metadata": {},
   "outputs": [],
   "source": []
  }
 ],
 "metadata": {
  "jupytext": {
   "cell_metadata_filter": "-all",
   "executable": "/usr/bin/env python3",
   "main_language": "python",
   "notebook_metadata_filter": "-all"
  },
  "kernelspec": {
   "display_name": "Python 3 (ipykernel)",
   "language": "python",
   "name": "python3"
  },
  "language_info": {
   "codemirror_mode": {
    "name": "ipython",
    "version": 3
   },
   "file_extension": ".py",
   "mimetype": "text/x-python",
   "name": "python",
   "nbconvert_exporter": "python",
   "pygments_lexer": "ipython3",
   "version": "3.12.4"
  }
 },
 "nbformat": 4,
 "nbformat_minor": 5
}
