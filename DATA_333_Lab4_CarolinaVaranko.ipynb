{
 "cells": [
  {
   "cell_type": "code",
   "execution_count": 83,
   "id": "e8af1582-a99c-450f-bb4c-92d71750a5b6",
   "metadata": {},
   "outputs": [
    {
     "name": "stdin",
     "output_type": "stream",
     "text": [
      "Hello! What's your name?  Carolina Varanko\n"
     ]
    },
    {
     "name": "stdout",
     "output_type": "stream",
     "text": [
      "Welcome,  Carolina Varanko ! Let's play Guess the Number Game!\n"
     ]
    },
    {
     "name": "stdin",
     "output_type": "stream",
     "text": [
      "Choose a difficulty: EASY, MODERATE, or HARD:  easy\n",
      "Attempt 1 of 5: Guess the number:  3\n"
     ]
    },
    {
     "name": "stdout",
     "output_type": "stream",
     "text": [
      "Too high!\n"
     ]
    },
    {
     "name": "stdin",
     "output_type": "stream",
     "text": [
      "Attempt 2 of 5: Guess the number:  2\n"
     ]
    },
    {
     "name": "stdout",
     "output_type": "stream",
     "text": [
      "Congratulations,  Carolina Varanko ! You guessed the number!\n",
      "Score: Carolina Varanko - Wins: 1, Losses: 0\n"
     ]
    },
    {
     "name": "stdin",
     "output_type": "stream",
     "text": [
      "Would you like to play again? (yes/no):  yes\n",
      "Choose a difficulty: EASY, MODERATE, or HARD:  moderate\n",
      "Attempt 1 of 8: Guess the number:  50\n"
     ]
    },
    {
     "name": "stdout",
     "output_type": "stream",
     "text": [
      "Too high!\n"
     ]
    },
    {
     "name": "stdin",
     "output_type": "stream",
     "text": [
      "Attempt 2 of 8: Guess the number:  30\n"
     ]
    },
    {
     "name": "stdout",
     "output_type": "stream",
     "text": [
      "Too high!\n"
     ]
    },
    {
     "name": "stdin",
     "output_type": "stream",
     "text": [
      "Attempt 3 of 8: Guess the number:  20\n"
     ]
    },
    {
     "name": "stdout",
     "output_type": "stream",
     "text": [
      "Too low!\n"
     ]
    },
    {
     "name": "stdin",
     "output_type": "stream",
     "text": [
      "Attempt 4 of 8: Guess the number:  10\n"
     ]
    },
    {
     "name": "stdout",
     "output_type": "stream",
     "text": [
      "Too low!\n"
     ]
    },
    {
     "name": "stdin",
     "output_type": "stream",
     "text": [
      "Attempt 5 of 8: Guess the number:  20\n"
     ]
    },
    {
     "name": "stdout",
     "output_type": "stream",
     "text": [
      "Too low!\n"
     ]
    },
    {
     "name": "stdin",
     "output_type": "stream",
     "text": [
      "Attempt 6 of 8: Guess the number:  10\n"
     ]
    },
    {
     "name": "stdout",
     "output_type": "stream",
     "text": [
      "Too low!\n"
     ]
    },
    {
     "name": "stdin",
     "output_type": "stream",
     "text": [
      "Attempt 7 of 8: Guess the number:  10\n"
     ]
    },
    {
     "name": "stdout",
     "output_type": "stream",
     "text": [
      "Too low!\n"
     ]
    },
    {
     "name": "stdin",
     "output_type": "stream",
     "text": [
      "Attempt 8 of 8: Guess the number:  10\n"
     ]
    },
    {
     "name": "stdout",
     "output_type": "stream",
     "text": [
      "Too low!\n",
      "Sorry, Carolina Varanko. You've run out of attempts! The correct number was 29.\n",
      "Score: Carolina Varanko - Wins: 1, Losses: 1\n"
     ]
    },
    {
     "name": "stdin",
     "output_type": "stream",
     "text": [
      "Would you like to play again? (yes/no):  no\n"
     ]
    },
    {
     "name": "stdout",
     "output_type": "stream",
     "text": [
      "Thanks for playing, Carolina Varanko! Final score: Wins - 1, Losses - 1\n"
     ]
    }
   ],
   "source": [
    "import random\n",
    "\n",
    "# Global variables\n",
    "wins = 0\n",
    "losses = 0\n",
    "\n",
    "def guess_the_number():  #Define a function that can be reused later. \n",
    "    global wins, losses  # Global variables\n",
    "\n",
    "    # Inside this function, ask for the player's name. Output their name at least once.\n",
    "    player_name = input(\"Hello! What's your name? \")\n",
    "    print(\"Welcome, \", player_name, \"! Let's play Guess the Number Game!\")\n",
    "\n",
    "    # Main game loop\n",
    "    while True:    \n",
    "        # Inside this function, ask players if they would like to play an EASY, MODERATE, or HARD game.\n",
    "        difficulty = input(\"Choose a difficulty: EASY, MODERATE, or HARD: \").lower()\n",
    "\n",
    "        # easy = range of 1 to 10, limit tries to 5.\n",
    "        # moderate = range of 1 to 100, limit tries to 8.\n",
    "        # hard = range of 1 to 1000, limit tries to 10.\n",
    "        if difficulty == \"easy\":\n",
    "            number = random.randint(1, 10)\n",
    "            tries = 5\n",
    "        elif difficulty == \"moderate\":\n",
    "            number = random.randint(1, 100)\n",
    "            tries = 8\n",
    "        elif difficulty == \"hard\":\n",
    "            number = random.randint(1, 1000)\n",
    "            tries = 10\n",
    "        else:\n",
    "            print(\"Invalid difficulty choice. Please choose EASY, MODERATE, or HARD.\")\n",
    "            continue\n",
    "\n",
    "        # Game loop for guessing\n",
    "        for attempt in range(tries):\n",
    "            guess = int(input(f\"Attempt {attempt + 1} of {tries}: Guess the number: \"))\n",
    "\n",
    "            if guess == number:\n",
    "                print(\"Congratulations, \", player_name, \"! You guessed the number!\")\n",
    "                wins += 1\n",
    "                break\n",
    "            elif guess < number:\n",
    "                print(\"Too low!\")\n",
    "            else:\n",
    "                print(\"Too high!\")\n",
    "\n",
    "        # If the player doesn't guess the number in the required amount of tries, they lose the game.\n",
    "        if guess != number:\n",
    "            print(f\"Sorry, {player_name}. You've run out of attempts! The correct number was {number}.\")\n",
    "            losses += 1\n",
    "\n",
    "        # Inside this function, keep track of the wins and losses for the player (using global variables), displaying the score before asking if they would like to play again.\n",
    "        print(f\"Score: {player_name} - Wins: {wins}, Losses: {losses}\")\n",
    "        play_again = input(\"Would you like to play again? (yes/no): \").lower()\n",
    "        if play_again != \"yes\":\n",
    "            print(f\"Thanks for playing, {player_name}! Final score: Wins - {wins}, Losses - {losses}\")\n",
    "            break\n",
    "guess_the_number()"
   ]
  },
  {
   "cell_type": "code",
   "execution_count": null,
   "id": "84720e44-ed27-483c-be16-05ca2e9a202d",
   "metadata": {},
   "outputs": [],
   "source": []
  }
 ],
 "metadata": {
  "kernelspec": {
   "display_name": "Python 3 (ipykernel)",
   "language": "python",
   "name": "python3"
  },
  "language_info": {
   "codemirror_mode": {
    "name": "ipython",
    "version": 3
   },
   "file_extension": ".py",
   "mimetype": "text/x-python",
   "name": "python",
   "nbconvert_exporter": "python",
   "pygments_lexer": "ipython3",
   "version": "3.12.4"
  }
 },
 "nbformat": 4,
 "nbformat_minor": 5
}
