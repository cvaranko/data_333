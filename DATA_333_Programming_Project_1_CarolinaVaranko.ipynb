{
 "cells": [
  {
   "cell_type": "code",
   "execution_count": null,
   "id": "3ea78895-758c-46e8-961b-a2db582b3ecb",
   "metadata": {},
   "outputs": [
    {
     "name": "stdout",
     "output_type": "stream",
     "text": [
      "Programming Project 1: AI ChatBot | Carolina Varanko DATA 333\n",
      "------------------------------------------------------------\n",
      "\n",
      "Welcome to the AI ChatBot!\n",
      "\n",
      "Please Enter your first and last name\n"
     ]
    },
    {
     "name": "stdin",
     "output_type": "stream",
     "text": [
      "First Name:  Carolina\n",
      "Last Name:  Varanko\n"
     ]
    },
    {
     "name": "stdout",
     "output_type": "stream",
     "text": [
      "\n",
      "\n",
      "Hello,  Carolina Varanko .\n",
      "\n",
      "Allow me to briefly explain this AI ChatBot program.\n",
      "Our AI ChatBot is your new virtual assistant that handles customer inquiries, drives sales, and provides top-notch support. \n",
      "Powered by cutting-edge AI and natural language processing, our AI ChatBot always delivers the perfect response. \n",
      "The setup is a breeze! You can have your AI ChatBot up and running on your website in no time, ready to elevate your \n",
      "customer engagement to new heights!\n",
      "Its like hiring your best salesperson who doesn't sleep!\n",
      "\n"
     ]
    },
    {
     "name": "stdin",
     "output_type": "stream",
     "text": [
      "Would you like to make a purchase AI ChatBot today? (y/n) n\n"
     ]
    },
    {
     "name": "stdout",
     "output_type": "stream",
     "text": [
      "\n",
      "Thank you  Carolina Varanko  for considering our AI ChatBot service. Have a great day!\n"
     ]
    },
    {
     "name": "stdin",
     "output_type": "stream",
     "text": [
      "\n",
      "Would you like to restart this AI ChatBot session? (y/n) n\n"
     ]
    },
    {
     "name": "stdout",
     "output_type": "stream",
     "text": [
      "Goodbye!\n",
      "Welcome to the AI ChatBot!\n",
      "\n",
      "Please Enter your first and last name\n"
     ]
    }
   ],
   "source": [
    "# Programming Project 1: AI ChatBot | Carolina Varanko DATA 333\n",
    "print(\"Programming Project 1: AI ChatBot | Carolina Varanko DATA 333\")\n",
    "print(\"------------------------------------------------------------\")\n",
    "print()\n",
    "while True:\n",
    "    print(\"Welcome to the AI ChatBot!\")\n",
    "    print()\n",
    "# Ask for the customer's first and last name. Store the values input to a variable.\n",
    "    print(\"Please Enter your first and last name\")\n",
    "    first_name = input(\"First Name: \")\n",
    "    last_name = input(\"Last Name: \")\n",
    "    print()\n",
    "    print()\n",
    "# Greet your customer using their full name.\n",
    "    print(\"Hello, \", first_name, last_name, \".\")\n",
    "    print()\n",
    "# Provide a few sentences overview of your Chatbot program. Be creative - make some stuff up. Output it to the screen with a nice format of your choice. Make this as serious or as silly a scenario as you want it to be. \n",
    "    print(\"Allow me to briefly explain this AI ChatBot program.\")\n",
    "    print(\"Our AI ChatBot is your new virtual assistant that handles customer inquiries, drives sales, and provides top-notch support.\",\n",
    "          \"\\nPowered by cutting-edge AI and natural language processing, our AI ChatBot always delivers the perfect response.\",\n",
    "             \"\\nThe setup is a breeze! You can have your AI ChatBot up and running on your website in no time, ready to elevate your\",\n",
    "             \"\\ncustomer engagement to new heights!\")\n",
    "    print(\"Its like hiring your best salesperson who doesn't sleep!\")\n",
    "    print()\n",
    "# Ask if your customer would like to make a purchase.\n",
    "    purchase_decision = input(\"Would you like to make a purchase AI ChatBot today? (y/n)\")\n",
    "# If yes -- continue to the following items:\n",
    "    if purchase_decision == 'y':\n",
    "# Ask for their email address. Store the values input to a variable.\n",
    "        email = input(\"Please enter your email address: \")\n",
    "# Ask for their phone number.  Store the values input to a variable.\n",
    "        phone_number = input(\"Please enter your phone number: \")\n",
    "# Ask for how many chatbot licenses they would like to purchase. Store the values input to a variable.\n",
    "        chatbot_license_count = int(input(\"How many AI ChatBot licenses would you like to purchase? Each AI ChatBot license is $75 each. \"))\n",
    "        print()\n",
    "# Ask if they would also like to purchase an optional Gold Support plan that gets them priority support. \n",
    "        print(\"We are happy to announce that AI ChatBot is now offering a support plan called Gold Support!\",\n",
    "                 \"\\nWith the Gold Support plan, you'll have access to our dedicated support team, giving you\",\n",
    "                 \"\\npriority assistance whenever you need it. No more waiting in long queues or getting stuck on technical issues!\")\n",
    "        print()\n",
    "        print(\"AI ChatBot Gold Support plan price breakdown: \", \n",
    "                    \"\\n1-50 AI ChatBot licenses for $500/year\",\n",
    "                  \"\\n51-99 AI ChatBot licenses for $350/year\",\n",
    "                  \"\\n100+ AI ChatBot licenses for $250/year\")\n",
    "        print()\n",
    "        gold_support = input(\"Would you like to add on the Gold Support plan that gets you priority support? (y/n)\" )\n",
    "        gold_support_cost = 0\n",
    "        if gold_support == 'y':\n",
    "            if 1 <= chatbot_license_count <= 50:\n",
    "                gold_support_cost = 500.00\n",
    "            elif 51 <= chatbot_license_count <= 99:\n",
    "                gold_support_cost = 350.00\n",
    "            elif chatbot_license_count >= 100:\n",
    "                gold_support_cost = 250.00\n",
    "# Each chatbot license costs $75. Calculate and display their current total.  Store the values input to a variable.\n",
    "        chatbot_license_cost = 75.00\n",
    "        subtotal = (chatbot_license_count*chatbot_license_cost)+gold_support_cost\n",
    "# Apply 10% tax for the total bill. \n",
    "        tax = subtotal*0.10\n",
    "# Calculate the total amount due. Store the values input to a variable.\n",
    "        total_amount = round(subtotal+tax, 2)\n",
    "# Ask for a credit card number.  Store the values input to a variable.\n",
    "        print(\"\\n**Please note: We do not accept American Express. Master and Visa cards are OK.\")\n",
    "        credit_card = input(\"Please enter your credit card number: \")\n",
    "# Ask for a credit card expiration date. Store the values input to a variable.\n",
    "        expiration_date = input(\"Please enter in the expiration date of the card (MM/YY): \")\n",
    "# Ask for a CVC number on the back of the credit card.  Store the values input to a variable.\n",
    "        cvc = input(\"Please enter the CVC number on the back of the card: \")\n",
    "# Ask for a zip code. Store the values input to a variable.\n",
    "        zip_code = input(\"Please enter in your billing zipcode: \")\n",
    "# Output a receipt using all of the variables you have input. Be sure to show the total license number, the amount for each license, the subtotal, tax, and the total amount due. \n",
    "# Include the customer's name, phone number, email address, credit card number, and expiration date in the receipt output.  \n",
    "        print()\n",
    "        print(\"--------------------RECIEPT--------------------\")\n",
    "        print(\"Customer Name: \", first_name, last_name)\n",
    "        print(\"Phone number: \", phone_number)\n",
    "        print(\"Email Address: \", email)\n",
    "        print(\"Credit Card: \", credit_card, expiration_date)\n",
    "        print()\n",
    "        print(\"AI ChatBot Licenses: \", chatbot_license_count)\n",
    "        print(\"Gold Support Plan Cost: \", gold_support_cost)\n",
    "        print(\"Subtotal: \", subtotal)\n",
    "        print(\"Tax (10%): \", tax)\n",
    "        print(\"Total Amount: \", total_amount)\n",
    "        print(\"-----------------------------------------------\")\n",
    "        print(\"\\nThank you for your purchase! Your AI ChatBot link will be emailed to you shortly.\")\n",
    "# If no - thank the customer by name and say goodbye. \n",
    "    else:\n",
    "        print(\"\\nThank you \", first_name, last_name, \" for considering our AI ChatBot service. Have a great day!\")\n",
    "# Ask the customer if they would like to restart the ChatBot.\n",
    "    restart = input(\"\\nWould you like to restart this AI ChatBot session? (y/n)\")\n",
    "    if restart != 'y':\n",
    "        print(\"Goodbye!\")"
   ]
  },
  {
   "cell_type": "code",
   "execution_count": null,
   "id": "b2a3e739-a657-412e-864b-65c7d35570c5",
   "metadata": {},
   "outputs": [],
   "source": []
  }
 ],
 "metadata": {
  "kernelspec": {
   "display_name": "Python 3 (ipykernel)",
   "language": "python",
   "name": "python3"
  },
  "language_info": {
   "codemirror_mode": {
    "name": "ipython",
    "version": 3
   },
   "file_extension": ".py",
   "mimetype": "text/x-python",
   "name": "python",
   "nbconvert_exporter": "python",
   "pygments_lexer": "ipython3",
   "version": "3.12.4"
  }
 },
 "nbformat": 4,
 "nbformat_minor": 5
}
